{
 "cells": [
  {
   "cell_type": "code",
   "execution_count": 1,
   "metadata": {},
   "outputs": [
    {
     "name": "stderr",
     "output_type": "stream",
     "text": [
      "/home/sonic/anaconda3/envs/pytorch/lib/python3.8/site-packages/tqdm/auto.py:22: TqdmWarning: IProgress not found. Please update jupyter and ipywidgets. See https://ipywidgets.readthedocs.io/en/stable/user_install.html\n",
      "  from .autonotebook import tqdm as notebook_tqdm\n"
     ]
    }
   ],
   "source": [
    "from glob import glob\n",
    "import pickle\n",
    "import random\n",
    "import cv2\n",
    "import numpy as np\n",
    "from tqdm import tqdm\n",
    "import pandas as pd\n",
    "import matplotlib.pyplot as plt\n",
    "import torch"
   ]
  },
  {
   "cell_type": "code",
   "execution_count": 45,
   "metadata": {},
   "outputs": [
    {
     "name": "stderr",
     "output_type": "stream",
     "text": [
      "100%|██████████████████████████████████████████████████████████████████████████████████████████████████████████████████████████████████████████████████████████████████████████████████| 12000/12000 [01:51<00:00, 108.07it/s]\n"
     ]
    }
   ],
   "source": [
    "data = glob('/data/maicon_train/y/*.png')\n",
    "abnormal_list = []\n",
    "for i, d in enumerate(tqdm(data)):\n",
    "    img = cv2.imread(d,0)\n",
    "    h,w = img.shape\n",
    "    prev_img = img[:,:w//2]\n",
    "    after_img = img[:,w//2:]\n",
    "    prev_img[prev_img==2] = 10\n",
    "    after_img[after_img==2] = 10\n",
    "    prev_img[prev_img==3] = 100\n",
    "    after_img[after_img==3] = 100\n",
    "\n",
    "    class_list = np.unique(prev_img+after_img)\n",
    "    if 11 in class_list or 110 in class_list or 101 in class_list or 111 in class_list:\n",
    "        abnormal_list.append(d)\n",
    "\n"
   ]
  },
  {
   "cell_type": "code",
   "execution_count": 46,
   "metadata": {},
   "outputs": [
    {
     "data": {
      "text/plain": [
       "['/data/maicon_train/y/2018_SPG_3LB_000326.png',\n",
       " '/data/maicon_train/y/2019_KSG_2LB_000589.png',\n",
       " '/data/maicon_train/y/2018_KAG_SAG_000041.png',\n",
       " '/data/maicon_train/y/2019_JNG_SAG_000234.png',\n",
       " '/data/maicon_train/y/2019_KSG_KNI_000461.png',\n",
       " '/data/maicon_train/y/2017_KAG_1LB_000034.png',\n",
       " '/data/maicon_train/y/2016_YDP_JJG_000075.png',\n",
       " '/data/maicon_train/y/2019_JNG_1LB_000129.png',\n",
       " '/data/maicon_train/y/2015_DMG_2LB_000436.png',\n",
       " '/data/maicon_train/y/2019_JRG_SAG_000081.png',\n",
       " '/data/maicon_train/y/2019_KSG_SAG_000123.png',\n",
       " '/data/maicon_train/y/2018_SMG_3LB_000185.png',\n",
       " '/data/maicon_train/y/2018_KSG_JJG_000007.png',\n",
       " '/data/maicon_train/y/2016_YDP_JJG_000151.png',\n",
       " '/data/maicon_train/y/2019_KSG_2LB_000544.png',\n",
       " '/data/maicon_train/y/2017_KSG_SAG_000148.png',\n",
       " '/data/maicon_train/y/2017_YDP_2LB_000503.png',\n",
       " '/data/maicon_train/y/2018_SCG_2LB_000292.png',\n",
       " '/data/maicon_train/y/2018_SCG_2LB_000288.png',\n",
       " '/data/maicon_train/y/2019_MPG_3LB_000229.png']"
      ]
     },
     "execution_count": 46,
     "metadata": {},
     "output_type": "execute_result"
    }
   ],
   "source": [
    "abnormal_list"
   ]
  },
  {
   "cell_type": "code",
   "execution_count": 41,
   "metadata": {},
   "outputs": [
    {
     "data": {
      "text/plain": [
       "['/data/maicon_train/y/2018_SPG_3LB_000326.png',\n",
       " '/data/maicon_train/y/2019_KSG_2LB_000589.png',\n",
       " '/data/maicon_train/y/2018_KAG_SAG_000041.png',\n",
       " '/data/maicon_train/y/2019_JNG_SAG_000234.png',\n",
       " '/data/maicon_train/y/2019_KSG_KNI_000461.png',\n",
       " '/data/maicon_train/y/2017_KAG_1LB_000034.png',\n",
       " '/data/maicon_train/y/2016_YDP_JJG_000075.png',\n",
       " '/data/maicon_train/y/2019_JNG_1LB_000129.png',\n",
       " '/data/maicon_train/y/2015_DMG_2LB_000436.png',\n",
       " '/data/maicon_train/y/2019_JRG_SAG_000081.png',\n",
       " '/data/maicon_train/y/2019_KSG_SAG_000123.png',\n",
       " '/data/maicon_train/y/2018_SMG_3LB_000185.png',\n",
       " '/data/maicon_train/y/2018_KSG_JJG_000007.png',\n",
       " '/data/maicon_train/y/2016_YDP_JJG_000151.png',\n",
       " '/data/maicon_train/y/2019_KSG_2LB_000544.png',\n",
       " '/data/maicon_train/y/2017_KSG_SAG_000148.png',\n",
       " '/data/maicon_train/y/2017_YDP_2LB_000503.png',\n",
       " '/data/maicon_train/y/2018_SCG_2LB_000292.png',\n",
       " '/data/maicon_train/y/2018_SCG_2LB_000288.png',\n",
       " '/data/maicon_train/y/2019_MPG_3LB_000229.png']"
      ]
     },
     "execution_count": 41,
     "metadata": {},
     "output_type": "execute_result"
    }
   ],
   "source": [
    "abnormal_list"
   ]
  },
  {
   "cell_type": "code",
   "execution_count": 50,
   "metadata": {},
   "outputs": [],
   "source": [
    "data_list = np.load('data_list.npy',allow_pickle=True)\n",
    "new_data = {}\n",
    "for k,v in data_list.item().items():\n",
    "    temp = v\n",
    "    random.shuffle(temp)\n",
    "    new_data[k] = temp\n",
    "    "
   ]
  },
  {
   "cell_type": "code",
   "execution_count": 2,
   "metadata": {},
   "outputs": [
    {
     "ename": "NameError",
     "evalue": "name 'new_data' is not defined",
     "output_type": "error",
     "traceback": [
      "\u001b[0;31m---------------------------------------------------------------------------\u001b[0m",
      "\u001b[0;31mNameError\u001b[0m                                 Traceback (most recent call last)",
      "Cell \u001b[0;32mIn [2], line 3\u001b[0m\n\u001b[1;32m      1\u001b[0m \u001b[39mfor\u001b[39;00m i \u001b[39min\u001b[39;00m \u001b[39mrange\u001b[39m(\u001b[39m5\u001b[39m):\n\u001b[1;32m      2\u001b[0m     temp \u001b[39m=\u001b[39m []\n\u001b[0;32m----> 3\u001b[0m     \u001b[39mfor\u001b[39;00m k,v \u001b[39min\u001b[39;00m new_data\u001b[39m.\u001b[39mitems():\n\u001b[1;32m      4\u001b[0m         length \u001b[39m=\u001b[39m \u001b[39mmax\u001b[39m(\u001b[39mlen\u001b[39m(v)\u001b[39m/\u001b[39m\u001b[39m/\u001b[39m\u001b[39m5\u001b[39m,\u001b[39m1\u001b[39m)\n\u001b[1;32m      5\u001b[0m         \u001b[39mif\u001b[39;00m i\u001b[39m==\u001b[39m\u001b[39m4\u001b[39m:\n",
      "\u001b[0;31mNameError\u001b[0m: name 'new_data' is not defined"
     ]
    }
   ],
   "source": [
    "for i in range(5):\n",
    "    temp = []\n",
    "    for k,v in new_data.items():\n",
    "        length = max(len(v)//5,1)\n",
    "        if i==4:\n",
    "            temp.extend(v[length*4:])\n",
    "        else:\n",
    "            temp.extend(v[length*i:length*(i+1)])\n",
    "        \n",
    "    data_dict = {'path':temp}\n",
    "    dataframe = pd.DataFrame.from_dict(data_dict)\n",
    "    dataframe.to_csv(str(i)+'_split.csv',index=False)\n",
    "        "
   ]
  },
  {
   "cell_type": "code",
   "execution_count": 3,
   "metadata": {},
   "outputs": [
    {
     "name": "stderr",
     "output_type": "stream",
     "text": [
      "9583it [00:00, 27539.92it/s]\n"
     ]
    },
    {
     "name": "stdout",
     "output_type": "stream",
     "text": [
      "0.1\n",
      "9583\n",
      "train  9583\n"
     ]
    },
    {
     "name": "stderr",
     "output_type": "stream",
     "text": [
      "100%|██████████| 300/300 [10:42<00:00,  2.14s/it]  \n"
     ]
    }
   ],
   "source": [
    "from dataset import LEVIR_256\n",
    "from omegaconf import OmegaConf\n",
    "conf = OmegaConf.load('config.yaml')\n",
    "data = LEVIR_256(conf.DATASETS,'train')\n",
    "dataloader = torch.utils.data.DataLoader(\n",
    "            data, batch_size=32, shuffle=False,\n",
    "            num_workers=32 ,pin_memory=True, sampler=None, drop_last=False)\n",
    "for i in tqdm(dataloader):\n",
    "    pass\n",
    "    "
   ]
  }
 ],
 "metadata": {
  "kernelspec": {
   "display_name": "pytorch",
   "language": "python",
   "name": "pytorch"
  },
  "orig_nbformat": 4,
  "vscode": {
   "interpreter": {
    "hash": "31f2aee4e71d21fbe5cf8b01ff0e069b9275f58929596ceb00d14d90e3e16cd6"
   }
  }
 },
 "nbformat": 4,
 "nbformat_minor": 2
}

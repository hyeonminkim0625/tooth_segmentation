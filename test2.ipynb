{
 "cells": [
  {
   "cell_type": "code",
   "execution_count": 10,
   "metadata": {},
   "outputs": [
    {
     "name": "stdout",
     "output_type": "stream",
     "text": [
      "{'MODEL': {'META_ARCHITECTURE': 'convnext_base_in22ft1k', 'SEGMENTATION_HEAD': 'lawin', 'EMA': 0.0}, 'SOLVER': {'IMS_PER_BATCH': 64, 'BASE_LR': 0.0002, 'EPOCH': 50, 'WEIGHT_DECAY': 0.01, 'WARMUP_EPOCH': 0, 'LR_SCHEDULER': 'cos', 'OPTIMIZER': 'ADAMW', 'GRADIENT_CLIP': 0.0, 'ACCUMULATION': 0}, 'DATASETS': {'IMAGE_SIZE': 256, 'LABEL_SMOOTHING': 0.1}, 'DATALOADER': {'WORKERS': 32}, 'DISTRIBUTE': {'DISTRIBUTE': False, 'MULTIPROCESSING_DISTRIBUTE': True, 'WORLD_SIZE': 1, 'DIST_URL': 'tcp://localhost:10001', 'DIST_BACKEND': 'nccl', 'GPU': 0, 'RANK': 0}, 'ETC': {'WANDB': True, 'EVAL': False, 'CHANNELS_LAST': False, 'AMP': False}}\n",
      "{'MODEL': {'META_ARCHITECTURE': 'convnext_base_in22ft1k', 'SEGMENTATION_HEAD': 'fpn', 'EMA': 0.0}, 'SOLVER': {'IMS_PER_BATCH': 64, 'BASE_LR': 0.0002, 'EPOCH': 50, 'WEIGHT_DECAY': 0.01, 'WARMUP_EPOCH': 0, 'LR_SCHEDULER': 'cos', 'OPTIMIZER': 'ADAMW', 'GRADIENT_CLIP': 0.0, 'ACCUMULATION': 0}, 'DATASETS': {'IMAGE_SIZE': 256, 'LABEL_SMOOTHING': 0.1}, 'DATALOADER': {'WORKERS': 32}, 'DISTRIBUTE': {'DISTRIBUTE': False, 'MULTIPROCESSING_DISTRIBUTE': True, 'WORLD_SIZE': 1, 'DIST_URL': 'tcp://localhost:10001', 'DIST_BACKEND': 'nccl', 'GPU': 0, 'RANK': 0}, 'ETC': {'WANDB': True, 'EVAL': False, 'CHANNELS_LAST': False, 'AMP': False}}\n",
      "{'MODEL': {'META_ARCHITECTURE': 'convnext_base_in22ft1k', 'SEGMENTATION_HEAD': 'fapn', 'EMA': 0.0}, 'SOLVER': {'IMS_PER_BATCH': 64, 'BASE_LR': 0.0002, 'EPOCH': 50, 'WEIGHT_DECAY': 0.01, 'WARMUP_EPOCH': 0, 'LR_SCHEDULER': 'cos', 'OPTIMIZER': 'ADAMW', 'GRADIENT_CLIP': 0.0, 'ACCUMULATION': 0}, 'DATASETS': {'IMAGE_SIZE': 256, 'LABEL_SMOOTHING': 0.1}, 'DATALOADER': {'WORKERS': 32}, 'DISTRIBUTE': {'DISTRIBUTE': False, 'MULTIPROCESSING_DISTRIBUTE': True, 'WORLD_SIZE': 1, 'DIST_URL': 'tcp://localhost:10001', 'DIST_BACKEND': 'nccl', 'GPU': 0, 'RANK': 0}, 'ETC': {'WANDB': True, 'EVAL': False, 'CHANNELS_LAST': False, 'AMP': False}}\n"
     ]
    }
   ],
   "source": [
    "import omegaconf\n",
    "from omegaconf import OmegaConf\n",
    "from itertools import product\n",
    "\n",
    "i = 0\n",
    "\n",
    "conf = OmegaConf.load('sweep.yaml')\n",
    "newconf = OmegaConf.load('config.yaml')\n",
    "\n",
    "new_dict = {}\n",
    "\n",
    "def recur(dic,parent):\n",
    "    for k,v in dic.items():\n",
    "        #print(type(dic))\n",
    "        if isinstance(dic,omegaconf.dictconfig.DictConfig) and isinstance(dic[k],omegaconf.dictconfig.DictConfig):\n",
    "            recur(dic[k],parent+k+'.')\n",
    "        else:\n",
    "            new_dict[parent+k] = dic[k]\n",
    "\n",
    "recur(conf,'')\n",
    "OmegaConf.select(conf,list(new_dict.keys())[0]) \n",
    "\n",
    "sweeps = list(product(*[new_dict[k] for k in new_dict.keys()]))\n",
    "for sweep in sweeps:\n",
    "    keys =  list(new_dict.keys())\n",
    "    for i,k in enumerate(keys):\n",
    "        OmegaConf.update(newconf,list(new_dict.keys())[i],sweep[i])\n",
    "    print(newconf)"
   ]
  },
  {
   "cell_type": "code",
   "execution_count": 7,
   "metadata": {},
   "outputs": [
    {
     "data": {
      "text/plain": [
       "{'MODEL.META_ARCHITECTURE': 'swin_base',\n",
       " 'MODEL.SEGMENTATION_HEAD': 'lawin',\n",
       " 'MODEL.EMA': 0.0,\n",
       " 'SOLVER.IMS_PER_BATCH': 64,\n",
       " 'SOLVER.BASE_LR': 0.0002,\n",
       " 'SOLVER.EPOCH': 2,\n",
       " 'SOLVER.WEIGHT_DECAY': 0.01,\n",
       " 'SOLVER.WARMUP_EPOCH': 0,\n",
       " 'SOLVER.LR_SCHEDULER': 'cos',\n",
       " 'SOLVER.OPTIMIZER': 'ADAMW',\n",
       " 'SOLVER.GRADIENT_CLIP': 0.0,\n",
       " 'SOLVER.ACCUMULATION': 1,\n",
       " 'DATASETS.IMAGE_SIZE': 256,\n",
       " 'DATASETS.LABEL_SMOOTHING': 0.1,\n",
       " 'DATALOADER.WORKERS': 32,\n",
       " 'DISTRIBUTE.DISTRIBUTE': False,\n",
       " 'DISTRIBUTE.MULTIPROCESSING_DISTRIBUTE': True,\n",
       " 'DISTRIBUTE.WORLD_SIZE': 1,\n",
       " 'DISTRIBUTE.DIST_URL': 'tcp://localhost:10001',\n",
       " 'DISTRIBUTE.DIST_BACKEND': 'nccl',\n",
       " 'DISTRIBUTE.GPU': 0,\n",
       " 'DISTRIBUTE.RANK': 0,\n",
       " 'ETC.WANDB': True,\n",
       " 'ETC.EVAL': False,\n",
       " 'ETC.CHANNELS_LAST': False,\n",
       " 'ETC.AMP': False}"
      ]
     },
     "execution_count": 7,
     "metadata": {},
     "output_type": "execute_result"
    }
   ],
   "source": [
    "from model import Model\n",
    "from omegaconf import OmegaConf\n",
    "import omegaconf\n",
    "conf = OmegaConf.load('config.yaml')\n",
    "from omegaconf.dictconfig import DictConfig\n",
    "new_dict = {}\n",
    "def recur(dic,parent):\n",
    "    for k,v in dic.items():\n",
    "        #print(type(dic))\n",
    "        if isinstance(dic,omegaconf.dictconfig.DictConfig) and isinstance(dic[k],omegaconf.dictconfig.DictConfig):\n",
    "            recur(dic[k],parent+k+'.')\n",
    "        else:\n",
    "            new_dict[parent+k] = dic[k]\n",
    "recur(conf,'')\n",
    "new_dict"
   ]
  },
  {
   "cell_type": "code",
   "execution_count": 2,
   "metadata": {},
   "outputs": [
    {
     "data": {
      "text/plain": [
       "False"
      ]
     },
     "execution_count": 2,
     "metadata": {},
     "output_type": "execute_result"
    }
   ],
   "source": [
    "import os\n",
    "\n",
    "os.path.exists('')"
   ]
  },
  {
   "cell_type": "code",
   "execution_count": 2,
   "metadata": {},
   "outputs": [
    {
     "name": "stdout",
     "output_type": "stream",
     "text": [
      "1152\n"
     ]
    }
   ],
   "source": [
    "import omegaconf\n",
    "from omegaconf import OmegaConf\n",
    "from itertools import product\n",
    "sweep_file = OmegaConf.load('sweep.yaml')\n",
    "new_dict = {}\n",
    "def recur(dic,parent):\n",
    "    for k,v in dic.items():\n",
    "        #print(type(dic))\n",
    "        if isinstance(dic,omegaconf.dictconfig.DictConfig) and isinstance(dic[k],omegaconf.dictconfig.DictConfig):\n",
    "            recur(dic[k],parent+k+'.')\n",
    "        else:\n",
    "            new_dict[parent+k] = dic[k]\n",
    "\n",
    "recur(sweep_file,'')\n",
    "sweeps = list(product(*[new_dict[k] for k in new_dict.keys()]))\n",
    "print(sweeps)"
   ]
  }
 ],
 "metadata": {
  "kernelspec": {
   "display_name": "Python 3.8.13 ('pytorch')",
   "language": "python",
   "name": "python3"
  },
  "language_info": {
   "codemirror_mode": {
    "name": "ipython",
    "version": 3
   },
   "file_extension": ".py",
   "mimetype": "text/x-python",
   "name": "python",
   "nbconvert_exporter": "python",
   "pygments_lexer": "ipython3",
   "version": "3.8.13"
  },
  "orig_nbformat": 4,
  "vscode": {
   "interpreter": {
    "hash": "c111c98ab16bb2146b3750ff96300d2ea24b959b05391bbc2c1f7544a5d2c2ae"
   }
  }
 },
 "nbformat": 4,
 "nbformat_minor": 2
}

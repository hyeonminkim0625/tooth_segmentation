{
 "cells": [
  {
   "cell_type": "code",
   "execution_count": 4,
   "metadata": {},
   "outputs": [
    {
     "data": {
      "text/plain": [
       "{'MODEL': {'META_ARCHITECTURE': ['convnext_tiny', 'convnext_small_in22k'], 'SEGMENTATION_HEAD': ['lawin', 'fpn', 'fapn']}}"
      ]
     },
     "execution_count": 4,
     "metadata": {},
     "output_type": "execute_result"
    }
   ],
   "source": [
    "from omegaconf import OmegaConf\n",
    "conf = OmegaConf.load('sweep.yaml')\n",
    "conf"
   ]
  },
  {
   "cell_type": "code",
   "execution_count": 69,
   "metadata": {},
   "outputs": [
    {
     "name": "stdout",
     "output_type": "stream",
     "text": [
      "('convnext_tiny', 'lawin')\n",
      "{'MODEL': {'META_ARCHITECTURE': 'convnext_tiny', 'SEGMENTATION_HEAD': 'lawin', 'EMA': 0.0}, 'SOLVER': {'IMS_PER_BATCH': 128, 'BASE_LR': 0.0002, 'EPOCH': 50, 'WEIGHT_DECAY': 0.01, 'WARMUP_EPOCH': 0, 'LR_SCHEDULER': 'cos', 'OPTIMIZER': 'ADAMW', 'GRADIENT_CLIP': 0.0, 'ACCUMULATION': 0}, 'DATASETS': {'IMAGE_SIZE': 256, 'LABEL_SMOOTHING': 0.1}, 'DATALOADER': {'WORKERS': 32}, 'DISTRIBUTE': {'DISTRIBUTE': False, 'MULTIPROCESSING_DISTRIBUTE': True, 'WORLD_SIZE': 1, 'DIST_URL': 'tcp://localhost:10001', 'DIST_BACKEND': 'nccl', 'GPU': 0, 'RANK': 0}, 'ETC': {'WANDB': True, 'EVAL': False, 'CHANNELS_LAST': False, 'AMP': False}}\n",
      "('convnext_tiny', 'fpn')\n",
      "{'MODEL': {'META_ARCHITECTURE': 'convnext_tiny', 'SEGMENTATION_HEAD': 'fpn', 'EMA': 0.0}, 'SOLVER': {'IMS_PER_BATCH': 128, 'BASE_LR': 0.0002, 'EPOCH': 50, 'WEIGHT_DECAY': 0.01, 'WARMUP_EPOCH': 0, 'LR_SCHEDULER': 'cos', 'OPTIMIZER': 'ADAMW', 'GRADIENT_CLIP': 0.0, 'ACCUMULATION': 0}, 'DATASETS': {'IMAGE_SIZE': 256, 'LABEL_SMOOTHING': 0.1}, 'DATALOADER': {'WORKERS': 32}, 'DISTRIBUTE': {'DISTRIBUTE': False, 'MULTIPROCESSING_DISTRIBUTE': True, 'WORLD_SIZE': 1, 'DIST_URL': 'tcp://localhost:10001', 'DIST_BACKEND': 'nccl', 'GPU': 0, 'RANK': 0}, 'ETC': {'WANDB': True, 'EVAL': False, 'CHANNELS_LAST': False, 'AMP': False}}\n",
      "('convnext_tiny', 'fapn')\n",
      "{'MODEL': {'META_ARCHITECTURE': 'convnext_tiny', 'SEGMENTATION_HEAD': 'fapn', 'EMA': 0.0}, 'SOLVER': {'IMS_PER_BATCH': 128, 'BASE_LR': 0.0002, 'EPOCH': 50, 'WEIGHT_DECAY': 0.01, 'WARMUP_EPOCH': 0, 'LR_SCHEDULER': 'cos', 'OPTIMIZER': 'ADAMW', 'GRADIENT_CLIP': 0.0, 'ACCUMULATION': 0}, 'DATASETS': {'IMAGE_SIZE': 256, 'LABEL_SMOOTHING': 0.1}, 'DATALOADER': {'WORKERS': 32}, 'DISTRIBUTE': {'DISTRIBUTE': False, 'MULTIPROCESSING_DISTRIBUTE': True, 'WORLD_SIZE': 1, 'DIST_URL': 'tcp://localhost:10001', 'DIST_BACKEND': 'nccl', 'GPU': 0, 'RANK': 0}, 'ETC': {'WANDB': True, 'EVAL': False, 'CHANNELS_LAST': False, 'AMP': False}}\n",
      "('convnext_small_in22k', 'lawin')\n",
      "{'MODEL': {'META_ARCHITECTURE': 'convnext_small_in22k', 'SEGMENTATION_HEAD': 'lawin', 'EMA': 0.0}, 'SOLVER': {'IMS_PER_BATCH': 128, 'BASE_LR': 0.0002, 'EPOCH': 50, 'WEIGHT_DECAY': 0.01, 'WARMUP_EPOCH': 0, 'LR_SCHEDULER': 'cos', 'OPTIMIZER': 'ADAMW', 'GRADIENT_CLIP': 0.0, 'ACCUMULATION': 0}, 'DATASETS': {'IMAGE_SIZE': 256, 'LABEL_SMOOTHING': 0.1}, 'DATALOADER': {'WORKERS': 32}, 'DISTRIBUTE': {'DISTRIBUTE': False, 'MULTIPROCESSING_DISTRIBUTE': True, 'WORLD_SIZE': 1, 'DIST_URL': 'tcp://localhost:10001', 'DIST_BACKEND': 'nccl', 'GPU': 0, 'RANK': 0}, 'ETC': {'WANDB': True, 'EVAL': False, 'CHANNELS_LAST': False, 'AMP': False}}\n",
      "('convnext_small_in22k', 'fpn')\n",
      "{'MODEL': {'META_ARCHITECTURE': 'convnext_small_in22k', 'SEGMENTATION_HEAD': 'fpn', 'EMA': 0.0}, 'SOLVER': {'IMS_PER_BATCH': 128, 'BASE_LR': 0.0002, 'EPOCH': 50, 'WEIGHT_DECAY': 0.01, 'WARMUP_EPOCH': 0, 'LR_SCHEDULER': 'cos', 'OPTIMIZER': 'ADAMW', 'GRADIENT_CLIP': 0.0, 'ACCUMULATION': 0}, 'DATASETS': {'IMAGE_SIZE': 256, 'LABEL_SMOOTHING': 0.1}, 'DATALOADER': {'WORKERS': 32}, 'DISTRIBUTE': {'DISTRIBUTE': False, 'MULTIPROCESSING_DISTRIBUTE': True, 'WORLD_SIZE': 1, 'DIST_URL': 'tcp://localhost:10001', 'DIST_BACKEND': 'nccl', 'GPU': 0, 'RANK': 0}, 'ETC': {'WANDB': True, 'EVAL': False, 'CHANNELS_LAST': False, 'AMP': False}}\n",
      "('convnext_small_in22k', 'fapn')\n",
      "{'MODEL': {'META_ARCHITECTURE': 'convnext_small_in22k', 'SEGMENTATION_HEAD': 'fapn', 'EMA': 0.0}, 'SOLVER': {'IMS_PER_BATCH': 128, 'BASE_LR': 0.0002, 'EPOCH': 50, 'WEIGHT_DECAY': 0.01, 'WARMUP_EPOCH': 0, 'LR_SCHEDULER': 'cos', 'OPTIMIZER': 'ADAMW', 'GRADIENT_CLIP': 0.0, 'ACCUMULATION': 0}, 'DATASETS': {'IMAGE_SIZE': 256, 'LABEL_SMOOTHING': 0.1}, 'DATALOADER': {'WORKERS': 32}, 'DISTRIBUTE': {'DISTRIBUTE': False, 'MULTIPROCESSING_DISTRIBUTE': True, 'WORLD_SIZE': 1, 'DIST_URL': 'tcp://localhost:10001', 'DIST_BACKEND': 'nccl', 'GPU': 0, 'RANK': 0}, 'ETC': {'WANDB': True, 'EVAL': False, 'CHANNELS_LAST': False, 'AMP': False}}\n"
     ]
    }
   ],
   "source": [
    "import omegaconf\n",
    "from itertools import product\n",
    "\n",
    "i = 0\n",
    "\n",
    "conf = OmegaConf.load('sweep.yaml')\n",
    "newconf = OmegaConf.load('config.yaml')\n",
    "\n",
    "new_dict = {}\n",
    "\n",
    "def recur(dic,parent):\n",
    "    for k,v in dic.items():\n",
    "        #print(type(dic))\n",
    "        if isinstance(dic,omegaconf.dictconfig.DictConfig) and isinstance(dic[k],omegaconf.dictconfig.DictConfig):\n",
    "            recur(dic[k],parent+k+'.')\n",
    "        else:\n",
    "            new_dict[parent+k] = dic[k]\n",
    "\n",
    "recur(conf,'')\n",
    "sweeps = list(product(*[new_dict[k] for k in new_dict.keys()]))\n",
    "for sweep in sweeps:\n",
    "    print(sweep)\n",
    "    for k in new_dict.keys():\n",
    "        k = k.replace('MODEL.','')\n",
    "        if k=='META_ARCHITECTURE':\n",
    "            newconf.MODEL[k] = sweep[0]\n",
    "        elif k=='SEGMENTATION_HEAD':\n",
    "            newconf.MODEL[k] = sweep[1]\n",
    "    print(newconf)\n",
    "        "
   ]
  }
 ],
 "metadata": {
  "kernelspec": {
   "display_name": "Python 3.8.13 ('pytorch')",
   "language": "python",
   "name": "python3"
  },
  "language_info": {
   "codemirror_mode": {
    "name": "ipython",
    "version": 3
   },
   "file_extension": ".py",
   "mimetype": "text/x-python",
   "name": "python",
   "nbconvert_exporter": "python",
   "pygments_lexer": "ipython3",
   "version": "3.8.13"
  },
  "orig_nbformat": 4,
  "vscode": {
   "interpreter": {
    "hash": "c111c98ab16bb2146b3750ff96300d2ea24b959b05391bbc2c1f7544a5d2c2ae"
   }
  }
 },
 "nbformat": 4,
 "nbformat_minor": 2
}

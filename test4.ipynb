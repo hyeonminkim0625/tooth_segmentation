{
 "cells": [
  {
   "cell_type": "code",
   "execution_count": 18,
   "metadata": {},
   "outputs": [
    {
     "name": "stdout",
     "output_type": "stream",
     "text": [
      "torch.Size([2, 2, 256, 256])\n"
     ]
    },
    {
     "data": {
      "text/plain": [
       "tensor(2.4372)"
      ]
     },
     "execution_count": 18,
     "metadata": {},
     "output_type": "execute_result"
    }
   ],
   "source": [
    "from loss import AsymmetricUnifiedFocalLoss\n",
    "import torch\n",
    "import torch.nn.functional as F\n",
    "\n",
    "loss = AsymmetricUnifiedFocalLoss()\n",
    "data = torch.randn(2,2,256,256)\n",
    "label = torch.argmax(torch.randn(2,2,256,256),dim=1)\n",
    "label = F.one_hot(label,2).permute(0,3,1,2)\n",
    "print(label.shape)\n",
    "\n",
    "loss(data,label)"
   ]
  }
 ],
 "metadata": {
  "kernelspec": {
   "display_name": "pytorch",
   "language": "python",
   "name": "pytorch"
  },
  "language_info": {
   "codemirror_mode": {
    "name": "ipython",
    "version": 3
   },
   "file_extension": ".py",
   "mimetype": "text/x-python",
   "name": "python",
   "nbconvert_exporter": "python",
   "pygments_lexer": "ipython3",
   "version": "3.8.13"
  },
  "orig_nbformat": 4,
  "vscode": {
   "interpreter": {
    "hash": "c111c98ab16bb2146b3750ff96300d2ea24b959b05391bbc2c1f7544a5d2c2ae"
   }
  }
 },
 "nbformat": 4,
 "nbformat_minor": 2
}
